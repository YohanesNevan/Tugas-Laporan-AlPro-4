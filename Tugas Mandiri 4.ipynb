{
 "cells": [
  {
   "cell_type": "code",
   "execution_count": 19,
   "metadata": {},
   "outputs": [
    {
     "name": "stdout",
     "output_type": "stream",
     "text": [
      "True\n",
      "False\n"
     ]
    }
   ],
   "source": [
    "def cek_angka(a, b, c):\n",
    "    \n",
    "    if (a != b and b != c and a != c) and (a + b == c or a + c == b or b + c == a):\n",
    "        return True\n",
    "    else:\n",
    "        return False\n",
    "\n",
    "hasil = cek_angka(1, 2, 3)\n",
    "print(hasil)  \n",
    "\n",
    "hasil = cek_angka(1, 2, 2)\n",
    "print(hasil)  \n"
   ]
  },
  {
   "cell_type": "code",
   "execution_count": 43,
   "metadata": {},
   "outputs": [
    {
     "name": "stdout",
     "output_type": "stream",
     "text": [
      "True\n"
     ]
    }
   ],
   "source": [
    "def cek_digit_belakang(a,b,c):\n",
    "    digit_a= a % 10\n",
    "    digit_b= b % 10\n",
    "    digit_c= c % 10\n",
    "    \n",
    "    if digit_a == digit_b or digit_a == digit_c or digit_b == digit_c:\n",
    "        return True\n",
    "    else:\n",
    "        return False\n",
    "    \n",
    "print(cek_digit_belakang(30,20,1))"
   ]
  },
  {
   "cell_type": "code",
   "execution_count": 2,
   "metadata": {},
   "outputs": [
    {
     "name": "stdout",
     "output_type": "stream",
     "text": [
      "212.0\n",
      "64.0\n",
      "32.0\n"
     ]
    }
   ],
   "source": [
    "celsius_to_fahrenheit = lambda c : (9/5) * c + 32\n",
    "celsius_to_reamur = lambda c : 0.80 * c\n",
    "    \n",
    "    \n",
    "print(celsius_to_fahrenheit(100))\n",
    "print(celsius_to_reamur(80))\n",
    "print(celsius_to_fahrenheit(0))"
   ]
  }
 ],
 "metadata": {
  "kernelspec": {
   "display_name": "Python 3",
   "language": "python",
   "name": "python3"
  },
  "language_info": {
   "codemirror_mode": {
    "name": "ipython",
    "version": 3
   },
   "file_extension": ".py",
   "mimetype": "text/x-python",
   "name": "python",
   "nbconvert_exporter": "python",
   "pygments_lexer": "ipython3",
   "version": "3.12.2"
  }
 },
 "nbformat": 4,
 "nbformat_minor": 2
}
